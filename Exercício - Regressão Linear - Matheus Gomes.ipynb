{
 "cells": [
  {
   "cell_type": "markdown",
   "metadata": {},
   "source": [
    "# Introdução à Ciência de Dados - UFPB\n",
    "Professor: Yuri Malheiros\n",
    "\n",
    "## Regressão Linear - Exercício"
   ]
  },
  {
   "cell_type": "markdown",
   "metadata": {},
   "source": [
    "Utilizando o dataset dos filmes, aplique a regressão linear para predizer o `US Gross` de acordo com o `Production Budget`."
   ]
  },
  {
   "cell_type": "markdown",
   "metadata": {},
   "source": [
    "Primeiro carregue os dados:"
   ]
  },
  {
   "cell_type": "code",
   "execution_count": 161,
   "metadata": {},
   "outputs": [
    {
     "data": {
      "text/html": [
       "<div>\n",
       "<style scoped>\n",
       "    .dataframe tbody tr th:only-of-type {\n",
       "        vertical-align: middle;\n",
       "    }\n",
       "\n",
       "    .dataframe tbody tr th {\n",
       "        vertical-align: top;\n",
       "    }\n",
       "\n",
       "    .dataframe thead th {\n",
       "        text-align: right;\n",
       "    }\n",
       "</style>\n",
       "<table border=\"1\" class=\"dataframe\">\n",
       "  <thead>\n",
       "    <tr style=\"text-align: right;\">\n",
       "      <th></th>\n",
       "      <th>Title</th>\n",
       "      <th>US Gross</th>\n",
       "      <th>Worldwide Gross</th>\n",
       "      <th>US DVD Sales</th>\n",
       "      <th>Production Budget</th>\n",
       "      <th>Release Date</th>\n",
       "      <th>MPAA Rating</th>\n",
       "      <th>Running Time (min)</th>\n",
       "      <th>Distributor</th>\n",
       "      <th>Source</th>\n",
       "      <th>Major Genre</th>\n",
       "      <th>Creative Type</th>\n",
       "      <th>Director</th>\n",
       "      <th>Rotten Tomatoes Rating</th>\n",
       "      <th>IMDB Rating</th>\n",
       "      <th>IMDB Votes</th>\n",
       "    </tr>\n",
       "  </thead>\n",
       "  <tbody>\n",
       "    <tr>\n",
       "      <th>0</th>\n",
       "      <td>The Land Girls</td>\n",
       "      <td>146083.0</td>\n",
       "      <td>146083.0</td>\n",
       "      <td>NaN</td>\n",
       "      <td>8000000.0</td>\n",
       "      <td>12-Jun-98</td>\n",
       "      <td>R</td>\n",
       "      <td>NaN</td>\n",
       "      <td>Gramercy</td>\n",
       "      <td>NaN</td>\n",
       "      <td>NaN</td>\n",
       "      <td>NaN</td>\n",
       "      <td>NaN</td>\n",
       "      <td>NaN</td>\n",
       "      <td>6.1</td>\n",
       "      <td>1071.0</td>\n",
       "    </tr>\n",
       "    <tr>\n",
       "      <th>1</th>\n",
       "      <td>First Love, Last Rites</td>\n",
       "      <td>10876.0</td>\n",
       "      <td>10876.0</td>\n",
       "      <td>NaN</td>\n",
       "      <td>300000.0</td>\n",
       "      <td>7-Aug-98</td>\n",
       "      <td>R</td>\n",
       "      <td>NaN</td>\n",
       "      <td>Strand</td>\n",
       "      <td>NaN</td>\n",
       "      <td>Drama</td>\n",
       "      <td>NaN</td>\n",
       "      <td>NaN</td>\n",
       "      <td>NaN</td>\n",
       "      <td>6.9</td>\n",
       "      <td>207.0</td>\n",
       "    </tr>\n",
       "    <tr>\n",
       "      <th>2</th>\n",
       "      <td>I Married a Strange Person</td>\n",
       "      <td>203134.0</td>\n",
       "      <td>203134.0</td>\n",
       "      <td>NaN</td>\n",
       "      <td>250000.0</td>\n",
       "      <td>28-Aug-98</td>\n",
       "      <td>NaN</td>\n",
       "      <td>NaN</td>\n",
       "      <td>Lionsgate</td>\n",
       "      <td>NaN</td>\n",
       "      <td>Comedy</td>\n",
       "      <td>NaN</td>\n",
       "      <td>NaN</td>\n",
       "      <td>NaN</td>\n",
       "      <td>6.8</td>\n",
       "      <td>865.0</td>\n",
       "    </tr>\n",
       "    <tr>\n",
       "      <th>3</th>\n",
       "      <td>Let's Talk About Sex</td>\n",
       "      <td>373615.0</td>\n",
       "      <td>373615.0</td>\n",
       "      <td>NaN</td>\n",
       "      <td>300000.0</td>\n",
       "      <td>11-Sep-98</td>\n",
       "      <td>NaN</td>\n",
       "      <td>NaN</td>\n",
       "      <td>Fine Line</td>\n",
       "      <td>NaN</td>\n",
       "      <td>Comedy</td>\n",
       "      <td>NaN</td>\n",
       "      <td>NaN</td>\n",
       "      <td>13.0</td>\n",
       "      <td>NaN</td>\n",
       "      <td>NaN</td>\n",
       "    </tr>\n",
       "    <tr>\n",
       "      <th>4</th>\n",
       "      <td>Slam</td>\n",
       "      <td>1009819.0</td>\n",
       "      <td>1087521.0</td>\n",
       "      <td>NaN</td>\n",
       "      <td>1000000.0</td>\n",
       "      <td>9-Oct-98</td>\n",
       "      <td>R</td>\n",
       "      <td>NaN</td>\n",
       "      <td>Trimark</td>\n",
       "      <td>Original Screenplay</td>\n",
       "      <td>Drama</td>\n",
       "      <td>Contemporary Fiction</td>\n",
       "      <td>NaN</td>\n",
       "      <td>62.0</td>\n",
       "      <td>3.4</td>\n",
       "      <td>165.0</td>\n",
       "    </tr>\n",
       "    <tr>\n",
       "      <th>...</th>\n",
       "      <td>...</td>\n",
       "      <td>...</td>\n",
       "      <td>...</td>\n",
       "      <td>...</td>\n",
       "      <td>...</td>\n",
       "      <td>...</td>\n",
       "      <td>...</td>\n",
       "      <td>...</td>\n",
       "      <td>...</td>\n",
       "      <td>...</td>\n",
       "      <td>...</td>\n",
       "      <td>...</td>\n",
       "      <td>...</td>\n",
       "      <td>...</td>\n",
       "      <td>...</td>\n",
       "      <td>...</td>\n",
       "    </tr>\n",
       "    <tr>\n",
       "      <th>3196</th>\n",
       "      <td>Zack and Miri Make a Porno</td>\n",
       "      <td>31452765.0</td>\n",
       "      <td>36851125.0</td>\n",
       "      <td>21240321.0</td>\n",
       "      <td>24000000.0</td>\n",
       "      <td>31-Oct-08</td>\n",
       "      <td>R</td>\n",
       "      <td>101.0</td>\n",
       "      <td>Weinstein Co.</td>\n",
       "      <td>Original Screenplay</td>\n",
       "      <td>Comedy</td>\n",
       "      <td>Contemporary Fiction</td>\n",
       "      <td>Kevin Smith</td>\n",
       "      <td>65.0</td>\n",
       "      <td>7.0</td>\n",
       "      <td>55687.0</td>\n",
       "    </tr>\n",
       "    <tr>\n",
       "      <th>3197</th>\n",
       "      <td>Zodiac</td>\n",
       "      <td>33080084.0</td>\n",
       "      <td>83080084.0</td>\n",
       "      <td>20983030.0</td>\n",
       "      <td>85000000.0</td>\n",
       "      <td>2-Mar-07</td>\n",
       "      <td>R</td>\n",
       "      <td>157.0</td>\n",
       "      <td>Paramount Pictures</td>\n",
       "      <td>Based on Book/Short Story</td>\n",
       "      <td>Thriller/Suspense</td>\n",
       "      <td>Dramatization</td>\n",
       "      <td>David Fincher</td>\n",
       "      <td>89.0</td>\n",
       "      <td>NaN</td>\n",
       "      <td>NaN</td>\n",
       "    </tr>\n",
       "    <tr>\n",
       "      <th>3198</th>\n",
       "      <td>Zoom</td>\n",
       "      <td>11989328.0</td>\n",
       "      <td>12506188.0</td>\n",
       "      <td>6679409.0</td>\n",
       "      <td>35000000.0</td>\n",
       "      <td>11-Aug-06</td>\n",
       "      <td>PG</td>\n",
       "      <td>NaN</td>\n",
       "      <td>Sony Pictures</td>\n",
       "      <td>Based on Comic/Graphic Novel</td>\n",
       "      <td>Adventure</td>\n",
       "      <td>Super Hero</td>\n",
       "      <td>Peter Hewitt</td>\n",
       "      <td>3.0</td>\n",
       "      <td>3.4</td>\n",
       "      <td>7424.0</td>\n",
       "    </tr>\n",
       "    <tr>\n",
       "      <th>3199</th>\n",
       "      <td>The Legend of Zorro</td>\n",
       "      <td>45575336.0</td>\n",
       "      <td>141475336.0</td>\n",
       "      <td>NaN</td>\n",
       "      <td>80000000.0</td>\n",
       "      <td>28-Oct-05</td>\n",
       "      <td>PG</td>\n",
       "      <td>129.0</td>\n",
       "      <td>Sony Pictures</td>\n",
       "      <td>Remake</td>\n",
       "      <td>Adventure</td>\n",
       "      <td>Historical Fiction</td>\n",
       "      <td>Martin Campbell</td>\n",
       "      <td>26.0</td>\n",
       "      <td>5.7</td>\n",
       "      <td>21161.0</td>\n",
       "    </tr>\n",
       "    <tr>\n",
       "      <th>3200</th>\n",
       "      <td>The Mask of Zorro</td>\n",
       "      <td>93828745.0</td>\n",
       "      <td>233700000.0</td>\n",
       "      <td>NaN</td>\n",
       "      <td>65000000.0</td>\n",
       "      <td>17-Jul-98</td>\n",
       "      <td>PG-13</td>\n",
       "      <td>136.0</td>\n",
       "      <td>Sony Pictures</td>\n",
       "      <td>Remake</td>\n",
       "      <td>Adventure</td>\n",
       "      <td>Historical Fiction</td>\n",
       "      <td>Martin Campbell</td>\n",
       "      <td>82.0</td>\n",
       "      <td>6.7</td>\n",
       "      <td>4789.0</td>\n",
       "    </tr>\n",
       "  </tbody>\n",
       "</table>\n",
       "<p>3193 rows × 16 columns</p>\n",
       "</div>"
      ],
      "text/plain": [
       "                           Title    US Gross  Worldwide Gross  US DVD Sales  \\\n",
       "0                 The Land Girls    146083.0         146083.0           NaN   \n",
       "1         First Love, Last Rites     10876.0          10876.0           NaN   \n",
       "2     I Married a Strange Person    203134.0         203134.0           NaN   \n",
       "3           Let's Talk About Sex    373615.0         373615.0           NaN   \n",
       "4                           Slam   1009819.0        1087521.0           NaN   \n",
       "...                          ...         ...              ...           ...   \n",
       "3196  Zack and Miri Make a Porno  31452765.0       36851125.0    21240321.0   \n",
       "3197                      Zodiac  33080084.0       83080084.0    20983030.0   \n",
       "3198                        Zoom  11989328.0       12506188.0     6679409.0   \n",
       "3199         The Legend of Zorro  45575336.0      141475336.0           NaN   \n",
       "3200           The Mask of Zorro  93828745.0      233700000.0           NaN   \n",
       "\n",
       "      Production Budget Release Date MPAA Rating  Running Time (min)  \\\n",
       "0             8000000.0    12-Jun-98           R                 NaN   \n",
       "1              300000.0     7-Aug-98           R                 NaN   \n",
       "2              250000.0    28-Aug-98         NaN                 NaN   \n",
       "3              300000.0    11-Sep-98         NaN                 NaN   \n",
       "4             1000000.0     9-Oct-98           R                 NaN   \n",
       "...                 ...          ...         ...                 ...   \n",
       "3196         24000000.0    31-Oct-08           R               101.0   \n",
       "3197         85000000.0     2-Mar-07           R               157.0   \n",
       "3198         35000000.0    11-Aug-06          PG                 NaN   \n",
       "3199         80000000.0    28-Oct-05          PG               129.0   \n",
       "3200         65000000.0    17-Jul-98       PG-13               136.0   \n",
       "\n",
       "             Distributor                        Source        Major Genre  \\\n",
       "0               Gramercy                           NaN                NaN   \n",
       "1                 Strand                           NaN              Drama   \n",
       "2              Lionsgate                           NaN             Comedy   \n",
       "3              Fine Line                           NaN             Comedy   \n",
       "4                Trimark           Original Screenplay              Drama   \n",
       "...                  ...                           ...                ...   \n",
       "3196       Weinstein Co.           Original Screenplay             Comedy   \n",
       "3197  Paramount Pictures     Based on Book/Short Story  Thriller/Suspense   \n",
       "3198       Sony Pictures  Based on Comic/Graphic Novel          Adventure   \n",
       "3199       Sony Pictures                        Remake          Adventure   \n",
       "3200       Sony Pictures                        Remake          Adventure   \n",
       "\n",
       "             Creative Type         Director  Rotten Tomatoes Rating  \\\n",
       "0                      NaN              NaN                     NaN   \n",
       "1                      NaN              NaN                     NaN   \n",
       "2                      NaN              NaN                     NaN   \n",
       "3                      NaN              NaN                    13.0   \n",
       "4     Contemporary Fiction              NaN                    62.0   \n",
       "...                    ...              ...                     ...   \n",
       "3196  Contemporary Fiction      Kevin Smith                    65.0   \n",
       "3197         Dramatization    David Fincher                    89.0   \n",
       "3198            Super Hero     Peter Hewitt                     3.0   \n",
       "3199    Historical Fiction  Martin Campbell                    26.0   \n",
       "3200    Historical Fiction  Martin Campbell                    82.0   \n",
       "\n",
       "      IMDB Rating  IMDB Votes  \n",
       "0             6.1      1071.0  \n",
       "1             6.9       207.0  \n",
       "2             6.8       865.0  \n",
       "3             NaN         NaN  \n",
       "4             3.4       165.0  \n",
       "...           ...         ...  \n",
       "3196          7.0     55687.0  \n",
       "3197          NaN         NaN  \n",
       "3198          3.4      7424.0  \n",
       "3199          5.7     21161.0  \n",
       "3200          6.7      4789.0  \n",
       "\n",
       "[3193 rows x 16 columns]"
      ]
     },
     "execution_count": 161,
     "metadata": {},
     "output_type": "execute_result"
    }
   ],
   "source": [
    "import pandas as pd\n",
    "movies = pd.read_csv(\"movies.csv\")\n",
    "movies_na = movies.dropna(subset=[\"US Gross\", \"Production Budget\" ])\n",
    "movies_na"
   ]
  },
  {
   "cell_type": "markdown",
   "metadata": {},
   "source": [
    "Visualize os dados com um gráfico de dispersão:"
   ]
  },
  {
   "cell_type": "code",
   "execution_count": 162,
   "metadata": {},
   "outputs": [
    {
     "data": {
      "text/plain": [
       "<matplotlib.axes._subplots.AxesSubplot at 0x530dd48>"
      ]
     },
     "execution_count": 162,
     "metadata": {},
     "output_type": "execute_result"
    },
    {
     "data": {
      "image/png": "[encoded data removed]",
      "text/plain": [
       "<Figure size 432x288 with 1 Axes>"
      ]
     },
     "metadata": {
      "needs_background": "light"
     },
     "output_type": "display_data"
    }
   ],
   "source": [
    "import seaborn as sns\n",
    "sns.scatterplot(data=movies_na, x=\"Production Budget\", y=\"US Gross\")"
   ]
  },
  {
   "cell_type": "markdown",
   "metadata": {},
   "source": [
    "Use a regressão linear para encontrar os coeficientes a e b:"
   ]
  },
  {
   "cell_type": "code",
   "execution_count": 163,
   "metadata": {},
   "outputs": [
    {
     "name": "stdout",
     "output_type": "stream",
     "text": [
      "f(x) = 1.0957226466834862x + 9896486.136543624\n"
     ]
    }
   ],
   "source": [
    "from scipy.stats import linregress\n",
    "result = linregress(movies_na[\"Production Budget\"], movies_na[\"US Gross\"])\n",
    "a = result.slope \n",
    "b = result.intercept\n",
    "print (f\"f(x) = {result.slope}x + {result.intercept}\")"
   ]
  },
  {
   "cell_type": "markdown",
   "metadata": {},
   "source": [
    "Utilize a função `show_regression` abaixo para visualizar o resultado da regressão linear. Nesta função, você deve passar as coordenadas x dos pontos, as coordenadas y, o coeficiente a e o coeficiente b."
   ]
  },
  {
   "cell_type": "code",
   "execution_count": 164,
   "metadata": {},
   "outputs": [],
   "source": [
    "#### NÃO ALTERAR ESSE CÓDIGO ####\n",
    "\n",
    "import matplotlib.pyplot as plt\n",
    "\n",
    "def gen_line(x_min, x_max, n_points, a, b):\n",
    "    interval = x_max-x_min\n",
    "    interval_value = interval/n_points\n",
    "    \n",
    "    x_result = []\n",
    "    y_result = []\n",
    "\n",
    "    for i in range(n_points):\n",
    "        current_x = x_min+i*interval_value\n",
    "        x_result.append(current_x)\n",
    "        y_result.append(a*current_x + b)\n",
    "        \n",
    "    return x_result, y_result\n",
    "\n",
    "def show_regression(x, y, a, b):\n",
    "    N = 100\n",
    "\n",
    "    plt.scatter(x, y)\n",
    "\n",
    "    line_1 = gen_line(min(x), max(x), N, a, b)\n",
    "    plt.plot(line_1[0], line_1[1], c= \"red\")\n",
    "\n",
    "    plt.gca()\n",
    "    plt.show()"
   ]
  },
  {
   "cell_type": "markdown",
   "metadata": {},
   "source": [
    "Exemplo de uso da função:"
   ]
  },
  {
   "cell_type": "code",
   "execution_count": 165,
   "metadata": {},
   "outputs": [
    {
     "data": {
      "image/png": "[encoded data removed]",
      "text/plain": [
       "<Figure size 432x288 with 1 Axes>"
      ]
     },
     "metadata": {
      "needs_background": "light"
     },
     "output_type": "display_data"
    }
   ],
   "source": [
    "show_regression(movies_na[\"Production Budget\"], movies_na[\"US Gross\"], a, b)"
   ]
  },
  {
   "cell_type": "markdown",
   "metadata": {},
   "source": [
    "A função `predict` recebe um production budget de um filme e retorna a predição do US Gross para ele:"
   ]
  },
  {
   "cell_type": "code",
   "execution_count": 166,
   "metadata": {},
   "outputs": [
    {
     "name": "stdout",
     "output_type": "stream",
     "text": [
      "10006058.40\n",
      "10992208.78\n",
      "15375099.37\n"
     ]
    }
   ],
   "source": [
    "def predict(production_budget):\n",
    "    \"\"\"\n",
    "    >>> f'{predict(100000):.2f}'\n",
    "    '10006058.40'\n",
    "    \n",
    "    >>> f'{predict(1000000):.2f}'\n",
    "    '10992208.78'\n",
    "\n",
    "    >>> f'{predict(5000000):.2f}'\n",
    "    '15375099.36'\n",
    "    \"\"\"\n",
    "   \n",
    "    return a*production_budget + b\n",
    "    \n",
    "print(f'{predict(100000):.2f}')\n",
    "print(f'{predict(1000000):.2f}')\n",
    "print(f'{predict(5000000):.2f}')   "
   ]
  },
  {
   "cell_type": "markdown",
   "metadata": {},
   "source": [
    "## Teste"
   ]
  },
  {
   "cell_type": "code",
   "execution_count": 167,
   "metadata": {},
   "outputs": [
    {
     "name": "stdout",
     "output_type": "stream",
     "text": [
      "Trying:\n",
      "    f'{predict(100000):.2f}'\n",
      "Expecting:\n",
      "    '10006058.40'\n",
      "ok\n",
      "Trying:\n",
      "    f'{predict(1000000):.2f}'\n",
      "Expecting:\n",
      "    '10992208.78'\n",
      "ok\n",
      "Trying:\n",
      "    f'{predict(5000000):.2f}'\n",
      "Expecting:\n",
      "    '15375099.36'\n",
      "**********************************************************************\n",
      "File \"__main__\", line 9, in __main__.predict\n",
      "Failed example:\n",
      "    f'{predict(5000000):.2f}'\n",
      "Expected:\n",
      "    '15375099.36'\n",
      "Got:\n",
      "    '15375099.37'\n",
      "3 items had no tests:\n",
      "    __main__\n",
      "    __main__.gen_line\n",
      "    __main__.show_regression\n",
      "**********************************************************************\n",
      "1 items had failures:\n",
      "   1 of   3 in __main__.predict\n",
      "3 tests in 4 items.\n",
      "2 passed and 1 failed.\n",
      "***Test Failed*** 1 failures.\n"
     ]
    },
    {
     "data": {
      "text/plain": [
       "TestResults(failed=1, attempted=3)"
      ]
     },
     "execution_count": 167,
     "metadata": {},
     "output_type": "execute_result"
    }
   ],
   "source": [
    "import doctest\n",
    "\n",
    "doctest.testmod(verbose=True)"
   ]
  }
 ],
 "metadata": {
  "kernelspec": {
   "display_name": "Python 3",
   "language": "python",
   "name": "python3"
  },
  "language_info": {
   "codemirror_mode": {
    "name": "ipython",
    "version": 3
   },
   "file_extension": ".py",
   "mimetype": "text/x-python",
   "name": "python",
   "nbconvert_exporter": "python",
   "pygments_lexer": "ipython3",
   "version": "3.8.5"
  }
 },
 "nbformat": 4,
 "nbformat_minor": 4
}
